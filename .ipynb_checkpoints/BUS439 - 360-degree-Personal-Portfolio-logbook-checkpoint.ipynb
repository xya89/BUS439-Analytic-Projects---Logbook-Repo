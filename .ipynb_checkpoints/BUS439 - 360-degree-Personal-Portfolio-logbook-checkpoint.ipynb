{
 "cells": [
  {
   "cell_type": "markdown",
   "id": "b0c12939-11df-4efd-a8da-8816c4acd999",
   "metadata": {
    "tags": []
   },
   "source": [
    "# Work Log"
   ]
  },
  {
   "cell_type": "markdown",
   "id": "085f124d-5424-47d8-852a-2aa485fc9d75",
   "metadata": {
    "tags": []
   },
   "source": [
    "### Jan 10, 2023, 1:30om to 2:20 pm\n",
    "#### Team Meeting"
   ]
  },
  {
   "cell_type": "markdown",
   "id": "b98ca9c2-8c63-4393-be9e-33d5e3d93030",
   "metadata": {},
   "source": [
    "- Initial meeting with team, in class"
   ]
  },
  {
   "cell_type": "markdown",
   "id": "ac41a48c-5647-442f-9cdc-c088361d9aef",
   "metadata": {},
   "source": [
    "- Initial data exploration by importing data into R or examine the data directly on Excel by looking at what the columns mean. "
   ]
  },
  {
   "cell_type": "markdown",
   "id": "e9cc955c-56c8-478e-92c2-c544e9f6eed4",
   "metadata": {},
   "source": [
    "- Exchange contact information within the team and formed a group on WhatsApp for communication. "
   ]
  },
  {
   "cell_type": "markdown",
   "id": "63668f57-aead-4ca8-b7cd-5a791836310c",
   "metadata": {
    "tags": []
   },
   "source": [
    "### Jan 11, 2023, 2:30 pm to 4:00 pm \n",
    "#### Individual Learning Tableau and Team meeting scheduling"
   ]
  },
  {
   "cell_type": "markdown",
   "id": "52597956-aeb9-4a68-89e5-3190ea87dc92",
   "metadata": {},
   "source": [
    "##### Individual Learning Tableau"
   ]
  },
  {
   "cell_type": "markdown",
   "id": "b4e8b12c-7177-4316-9785-3fdec3520ca9",
   "metadata": {},
   "source": [
    "- I used Tableau 2022.03 on the computer on SFU Bunrbay Library and used holidays_events.csv, stores.csv, train.csv, and transactions.csv data avaliable from Kaggle.com under the opensource competition \"Store Sales - Time Series Forecasting\" link: https://www.kaggle.com/competitions/store-sales-time-series-forecasting/data. to explore the Tableau. I did not save the Tableau workbook neither in .twb nor the .twbx with packaged data since I cannot connect to my SFU Tableau free account on the library's computer. "
   ]
  },
  {
   "cell_type": "markdown",
   "id": "f4cd6858-769f-4c29-998d-fbb803cba792",
   "metadata": {},
   "source": [
    "- I joined the stores.csv and transactions.csv using inner join on column \"storenbr\", and I tried to get a visualized insights of how the transactions is distributed throughout the year and throughout Ecuador's cities. Since the dataset is based on store sells in Edcudor from 2012 to 2017. "
   ]
  },
  {
   "cell_type": "markdown",
   "id": "fdd97771-b6bf-4a50-b774-4abbd12dbdc1",
   "metadata": {},
   "source": [
    "- I put Date as X-axis and countD(Transactions) as Y-axis and found people in Ecuador's city tends to shop crazy at the day of Christmas Eve. I then put cities as a \"legend\" and found that people in the Quito, the capital city contributes to more than 50% of the conutries in-store transactions throughout the year.  "
   ]
  },
  {
   "cell_type": "markdown",
   "id": "a7cd95bd-fc3a-4505-99d8-a50aaa2bd0e3",
   "metadata": {
    "tags": []
   },
   "source": [
    "##### Team meeting scheduling"
   ]
  },
  {
   "cell_type": "markdown",
   "id": "08635672-0c53-44c8-81a6-e92eeab69546",
   "metadata": {},
   "source": [
    "- Scheduled team meeting for the noon of Jan 12 for foundational work on issue tree and interview questions. Also for diving the workload. "
   ]
  },
  {
   "cell_type": "markdown",
   "id": "e1b6d8e2-8f73-4cf6-9096-84e8ad76858b",
   "metadata": {
    "tags": []
   },
   "source": [
    "### Jan 11, 2023, 7:30 pm to 9:00 pm \n",
    "#### Individual Work on Issue Tree brainstorming and Exploring the Schedulling data. "
   ]
  },
  {
   "cell_type": "markdown",
   "id": "40075393-43d4-48ab-9645-5f96e7457a63",
   "metadata": {},
   "source": [
    "##### Individual Work on Issue Tree brainstorimg"
   ]
  },
  {
   "cell_type": "markdown",
   "id": "4c7d8072-2b2e-40f4-9872-89a5ba41be26",
   "metadata": {},
   "source": [
    "- The main objective of the business problem is to schedule BUS100 in a time so that students come to class. \n",
    "So I start my brainstorming on three aspects of schedulling:\n",
    "    1. Campus location.\n",
    "    2. Campus room avaliability.\n",
    "    3. Time avaliability. "
   ]
  },
  {
   "cell_type": "markdown",
   "id": "59e967d7-861e-44c8-87db-c80075bb8842",
   "metadata": {},
   "source": []
  }
 ],
 "metadata": {
  "kernelspec": {
   "display_name": "R",
   "language": "R",
   "name": "ir"
  },
  "language_info": {
   "codemirror_mode": "r",
   "file_extension": ".r",
   "mimetype": "text/x-r-source",
   "name": "R",
   "pygments_lexer": "r",
   "version": "4.2.2"
  }
 },
 "nbformat": 4,
 "nbformat_minor": 5
}
