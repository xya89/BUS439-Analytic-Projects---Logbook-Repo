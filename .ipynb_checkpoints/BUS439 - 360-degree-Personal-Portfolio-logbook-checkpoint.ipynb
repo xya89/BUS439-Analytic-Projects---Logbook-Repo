{
 "cells": [
  {
   "cell_type": "markdown",
   "id": "b0c12939-11df-4efd-a8da-8816c4acd999",
   "metadata": {
    "tags": []
   },
   "source": [
    "# Work Log"
   ]
  },
  {
   "cell_type": "markdown",
   "id": "085f124d-5424-47d8-852a-2aa485fc9d75",
   "metadata": {
    "tags": []
   },
   "source": [
    "### Jan 10, 2023, 1:30om to 2:20 pm\n",
    "#### Team Meeting"
   ]
  },
  {
   "cell_type": "markdown",
   "id": "b98ca9c2-8c63-4393-be9e-33d5e3d93030",
   "metadata": {},
   "source": [
    "- Initial meeting with team, in class"
   ]
  },
  {
   "cell_type": "markdown",
   "id": "ac41a48c-5647-442f-9cdc-c088361d9aef",
   "metadata": {},
   "source": [
    "- Initial data exploration by importing data into R or examine the data directly on Excel by looking at what the columns mean. "
   ]
  },
  {
   "cell_type": "markdown",
   "id": "e9cc955c-56c8-478e-92c2-c544e9f6eed4",
   "metadata": {},
   "source": [
    "- Exchange contact information within the team and formed a group on WhatsApp for communication. "
   ]
  },
  {
   "cell_type": "markdown",
   "id": "63668f57-aead-4ca8-b7cd-5a791836310c",
   "metadata": {
    "tags": []
   },
   "source": [
    "### Jan 11, 2023, 2:30 pm to 4:00 pm \n",
    "#### Individual Learning Tableau and Team meeting scheduling"
   ]
  },
  {
   "cell_type": "markdown",
   "id": "52597956-aeb9-4a68-89e5-3190ea87dc92",
   "metadata": {},
   "source": [
    "##### Individual Learning Tableau"
   ]
  },
  {
   "cell_type": "markdown",
   "id": "b4e8b12c-7177-4316-9785-3fdec3520ca9",
   "metadata": {},
   "source": [
    "- I used Tableau 2022.03 on the computer on SFU Bunrbay Library and used holidays_events.csv, stores.csv, train.csv, and transactions.csv data avaliable from Kaggle.com under the opensource competition \"Store Sales - Time Series Forecasting\" link: https://www.kaggle.com/competitions/store-sales-time-series-forecasting/data. to explore the Tableau. I did not save the Tableau workbook neither in .twb nor the .twbx with packaged data since I cannot connect to my SFU Tableau free account on the library's computer. "
   ]
  },
  {
   "cell_type": "markdown",
   "id": "f4cd6858-769f-4c29-998d-fbb803cba792",
   "metadata": {},
   "source": [
    "- I joined the stores.csv and transactions.csv using inner join on column \"storenbr\", and I tried to get a visualized insights of how the transactions is distributed throughout the year and throughout Ecuador's cities. Since the dataset is based on store sells in Edcudor from 2012 to 2017. "
   ]
  },
  {
   "cell_type": "markdown",
   "id": "fdd97771-b6bf-4a50-b774-4abbd12dbdc1",
   "metadata": {},
   "source": [
    "- I put Date as X-axis and countD(Transactions) as Y-axis and found people in Ecuador's city tends to shop crazy at the day of Christmas Eve. I then put cities as a \"legend\" and found that people in the Quito, the capital city contributes to more than 50% of the conutries in-store transactions throughout the year.  "
   ]
  },
  {
   "cell_type": "markdown",
   "id": "a7cd95bd-fc3a-4505-99d8-a50aaa2bd0e3",
   "metadata": {
    "tags": []
   },
   "source": [
    "##### Team meeting scheduling"
   ]
  },
  {
   "cell_type": "markdown",
   "id": "08635672-0c53-44c8-81a6-e92eeab69546",
   "metadata": {},
   "source": [
    "- Scheduled team meeting for the noon of Jan 12 for foundational work on issue tree and interview questions. Also for diving the workload. "
   ]
  },
  {
   "cell_type": "markdown",
   "id": "e1b6d8e2-8f73-4cf6-9096-84e8ad76858b",
   "metadata": {
    "tags": []
   },
   "source": [
    "### Jan 11, 2023, 7:30 pm to 9:00 pm \n",
    "#### Individual Work on Issue Tree brainstorming and Exploring the Schedulling data. "
   ]
  },
  {
   "cell_type": "markdown",
   "id": "40075393-43d4-48ab-9645-5f96e7457a63",
   "metadata": {},
   "source": [
    "##### Individual Work on Issue Tree brainstorimg"
   ]
  },
  {
   "cell_type": "markdown",
   "id": "4c7d8072-2b2e-40f4-9872-89a5ba41be26",
   "metadata": {},
   "source": [
    "- The main objective of the business problem is to schedule BUS100 in a time so that students come to class. \n",
    "So I start my brainstorming on three aspects of schedulling:\n",
    "    1. Campus location.\n",
    "    2. Campus room avaliability.\n",
    "    3. Time avaliability. "
   ]
  },
  {
   "cell_type": "markdown",
   "id": "c6bb2afe-1c94-434b-b197-120b4765e206",
   "metadata": {},
   "source": [
    "- For campus location, I have the following notes:\n",
    "    - How about students taking classes in other campus (other than Burnaby) only?\n",
    "        - What about students having class on different campus on the same day? \n",
    "            - Need to consider commuting time. \n",
    "                - Type of commuting: Train, Bus, Car.\n",
    "                \n",
    "        - What about students only taking online class?\n",
    "            - Can the client offer hybrid class for studetns learning remotely?\n",
    "\n",
    "- For schedulling based on the time so that most students are free.\n",
    "    - Class time in between classes – avoid skipping classes. \n",
    "    - A specific day when most students are free. OR\n",
    "    - A specific time of a day when most students are free.\n",
    "    - Should we consider workload?\n",
    "        - Is the student likely to skip the one-hour class after a full day?\n",
    "            - Could we schedule the BUS100 in-between long lectures?\n",
    "\n",
    "- For schedulling at a campus with most rooms available.\n",
    "    - What time will the rooms be available. \n",
    "    - Where is the most convenient room for all BUS 100 students on Campus. \n",
    "    "
   ]
  },
  {
   "cell_type": "markdown",
   "id": "69ea3612-ba93-4edf-abe1-6c1d386a8e8e",
   "metadata": {},
   "source": [
    "- Based on the above brainstorming questions, I have the following possible solutions:\n",
    "    - Scheduling based on free time:\n",
    "        - Overlay all the students' class schedule and find the free spot. \n",
    "        - In the case of multiple free spots, choose one based on campus location, room availability. \n",
    "    - Scheduling based on Campus location:\n",
    "        - Same as above, but campus location has more weight in the decision. \n",
    "        - Open to discussion. "
   ]
  },
  {
   "cell_type": "markdown",
   "id": "59e967d7-861e-44c8-87db-c80075bb8842",
   "metadata": {},
   "source": [
    "##### Exploring the Scheduelling data"
   ]
  },
  {
   "cell_type": "markdown",
   "id": "5197faa0-2c27-4a34-a4c6-e9325d68a543",
   "metadata": {},
   "source": [
    "- Didn't do much other than getting the data into Tableau."
   ]
  },
  {
   "cell_type": "markdown",
   "id": "f9434ed6-d010-4c58-9b18-f8dc8360afeb",
   "metadata": {},
   "source": [
    "### Jan 12, 2023, 11:45am to 12:00 pm\n",
    "#### Initial Team Meeting via Zoom"
   ]
  },
  {
   "cell_type": "markdown",
   "id": "6398552f-cd4a-4dc5-a2c4-fa00a675d2e9",
   "metadata": {},
   "source": [
    "- Simaran sent an Zoom invitation link for group meeting and a link to the google drive folder for the project: (Link: https://drive.google.com/drive/u/1/folders/1ec_nvnesz0hlre7bqZUvzDdTZUFdulLY)"
   ]
  },
  {
   "cell_type": "markdown",
   "id": "d82cbc29-12cf-4f47-a24b-67404c085d95",
   "metadata": {},
   "source": [
    "- Get access shared docuements for ideas sharing and issue tree creating from group messages. "
   ]
  },
  {
   "cell_type": "markdown",
   "id": "b492b6f9-c093-48af-aa18-971754320e66",
   "metadata": {},
   "source": [
    "- Put my initial brainstorming for the interview question on the Google doc for interview questions development. (File details: <Group 1 BUS439 D100 - Interview Questions>. Link: https://docs.google.com/document/d/173QTX2cuk4Aaf692goDZK0B3dvtS0saIwTQiQw1IMzI/edit)"
   ]
  },
  {
   "cell_type": "markdown",
   "id": "92559b0c-7bed-4ed1-8162-e6b6ae034f0b",
   "metadata": {},
   "source": [
    "- Schedule the meeting on Saturday, Jan 14, 2023, at 1pm for sharing the individual issue tree based on the key question(What's the best schedule for BUS100) and choose a best tree for further development and interview questions development. "
   ]
  },
  {
   "cell_type": "markdown",
   "id": "8e4a2fe0-91c6-4d21-8fe3-87d033b0f32d",
   "metadata": {},
   "source": [
    "### Jan 13, 2023, 3:30 pm to 5:30 pm\n",
    "#### Inidividual Review of Process and Sketch an Issue Tree on Shared Google Doc. "
   ]
  },
  {
   "cell_type": "markdown",
   "id": "1266284a-4acf-43bf-a0d8-ed7211108d08",
   "metadata": {},
   "source": [
    "##### Review of Process so far"
   ]
  },
  {
   "cell_type": "markdown",
   "id": "dbe9ebfa-1dad-4ebf-8a3a-4026f96005d4",
   "metadata": {},
   "source": [
    "- Reivew what I had so far on the log and my working files. (Brainstorming ideas file: IssueTree- SeanYang.docx)"
   ]
  },
  {
   "cell_type": "markdown",
   "id": "30946124-358c-4770-a16a-506eda6d80eb",
   "metadata": {},
   "source": [
    "- Spent 30 minutes on individual brainstorming of additional ideas from Jan 11. "
   ]
  },
  {
   "cell_type": "markdown",
   "id": "5a383094-c3e9-4d05-993c-81289d87c81a",
   "metadata": {},
   "source": [
    "##### Sketch an Individual Issue Tree on Shared Google Doc. "
   ]
  },
  {
   "cell_type": "markdown",
   "id": "f057bcaf-2aa7-47fd-9e04-f83924086c6a",
   "metadata": {},
   "source": [
    "- I organized my ideas from the brainstorming file (IssueTree-SeanYang.docx) and put them into an issue tree by using boxes representing the tree nodes and lines representing the branches. "
   ]
  },
  {
   "cell_type": "markdown",
   "id": "115cd229-8a26-4884-9fd9-adf33d2e50bc",
   "metadata": {},
   "source": [
    "- format and save the issue tree on Shared Google Doc. The file is for each team member to draw an individual issue tree for meeting on Jan 14. (File details: <Group 1 BUS439 D100 - Issue Tree>. Link: https://docs.google.com/drawings/d/1kzoWO7xe90PpDh-i5B9BiKe92jH5U3qAtJeaThRUhJg/edit)"
   ]
  },
  {
   "cell_type": "markdown",
   "id": "65834615-49fd-42de-a9a6-b53e5db1a89d",
   "metadata": {},
   "source": [
    "### Jan 14,2023, 1:00 pm to 2:30 pm\n",
    "#### Team meeting of Issue Tree and Interview Questions"
   ]
  },
  {
   "cell_type": "markdown",
   "id": "11f8db71-39b6-431b-a3c1-2bfb08446aac",
   "metadata": {},
   "source": [
    "##### Team meeting on Issue Tree"
   ]
  },
  {
   "cell_type": "markdown",
   "id": "42d0f142-d05f-49c3-a4f6-a182ffa958d1",
   "metadata": {},
   "source": [
    "- Simran created Google canvas for sketching the isuue tree. (File details: <Group 1 BUS439 D100 - Issue Tree>. Link https://docs.google.com/drawings/d/1kzoWO7xe90PpDh-i5B9BiKe92jH5U3qAtJeaThRUhJg/edit "
   ]
  },
  {
   "cell_type": "markdown",
   "id": "cf445906-8140-46fb-bb50-338d74288fc3",
   "metadata": {},
   "source": [
    "- Simran, Hongrui, Jeffery, Ishaan and I shared each of our Issue Tree on the Document Simran created. (File details: <Group 1 BUS439 D100 - Issue Tree/Interview Questions>. Link: https://docs.google.com/document/d/173QTX2cuk4Aaf692goDZK0B3dvtS0saIwTQiQw1IMzI/edit )"
   ]
  },
  {
   "cell_type": "markdown",
   "id": "d87402af-5803-4745-a193-09b113519ea0",
   "metadata": {},
   "source": [
    "- The team organized and discuessed which issue tree branch/leaf nodes and interview questions to be omitted. "
   ]
  },
  {
   "cell_type": "markdown",
   "id": "3944b207-23de-4d71-b332-5f40293cb758",
   "metadata": {},
   "source": [
    "- The team come up with a final draft of Issue Tree and Interview Questions. "
   ]
  },
  {
   "cell_type": "markdown",
   "id": "e250240a-9c45-4c4d-acc3-7252b1015316",
   "metadata": {},
   "source": [
    "- The team set a deadline at Sunday, Jan 15, 2023 to review the final draft in case of any last minute changes. "
   ]
  },
  {
   "cell_type": "markdown",
   "id": "76aa8229-bc48-40f5-b875-4bbe277a4020",
   "metadata": {},
   "source": [
    "### Jan 15, 2023, 4:00 pm to 5:00 pm\n",
    "#### Issue Tree and Interview Questions Delivery"
   ]
  },
  {
   "cell_type": "markdown",
   "id": "043d84a3-1d77-48a8-a4d9-cf4bb873f929",
   "metadata": {},
   "source": [
    "- Simran submitted the Issue Tree on behalf of the team."
   ]
  },
  {
   "cell_type": "markdown",
   "id": "a1f6d476-a79d-4fc2-b151-d80de38aed5c",
   "metadata": {},
   "source": [
    "### Jan 17, 2023, 11:30 am to 2:20 pm\n",
    "#### Week 2 class, Client Meeting, Details Specification"
   ]
  },
  {
   "cell_type": "markdown",
   "id": "014d3200-b58c-437f-b64d-9e54f2f8aa0a",
   "metadata": {},
   "source": [
    "- During the class time meeting, Simran took the notes during the interview with Dr. Kamal. "
   ]
  },
  {
   "cell_type": "markdown",
   "id": "4f125726-5acf-4266-be42-754c25d27668",
   "metadata": {},
   "source": [
    "- The note specifies the details constraints regarding room accommodation, time slot, and number of professors teaching. Simran records details under each interview questions. "
   ]
  },
  {
   "cell_type": "markdown",
   "id": "debb48bd-d159-4ab2-8677-6ee9c1760108",
   "metadata": {},
   "source": [
    "- Scheduled meeting on Thursday Jan 19, 2023 at 11:00 am. The deliverables for the meeting is an individually created BUS 100 scheduling plan. "
   ]
  },
  {
   "cell_type": "markdown",
   "id": "1f68c8e5-4bd3-4371-b8d8-ab4603139372",
   "metadata": {},
   "source": [
    "### Jan 17 3:30 pm to 6:00 pm\n",
    "#### Initiate Tableau workbook - Inidividual"
   ]
  },
  {
   "cell_type": "markdown",
   "id": "464a44cd-7e4a-4e69-ab0e-721035f87e30",
   "metadata": {},
   "source": [
    "- Start working with the <Student Course Schedules.xlsx> file by reading the data into Tableau Desktop 2022.3"
   ]
  },
  {
   "cell_type": "markdown",
   "id": "46048184-2cb0-4a90-87e6-d5a086174ed2",
   "metadata": {},
   "source": [
    "- Examine the tree tabs: Fall 2022, Fall 2021, and Notes. Choose to work with Fall 2022 since it is the most recent data."
   ]
  },
  {
   "cell_type": "markdown",
   "id": "2f2c8e7b-7a56-454b-a25e-a490a0f91e92",
   "metadata": {},
   "source": [
    "- Create a Course Density Visualization to examine the course distribution among students. \n",
    "    - First by creating a calculated field CNTD(Lookup ID), it is the count distinct of the column Lookup ID, which gets the number of unique students in the table. \n",
    "    - Then put CNTD(Lookup ID) into the Rows tab on the top of the canvas, and put Course Name into the Columns tab to create a barplot of the distribution of number of students among courses. \n",
    "    - The distribution on the previous step shows that student who is enrolled in BUS 100 also enrolled in BUS 201. \n",
    "    - Added Subject to the Marks section and make it an Color object, so that the color specifies which type of courses, i.e. BUS, ECON, has the most enrollment number.\n",
    "    - Make CNTD(Lookup ID) into a Size object in the Marks section, so that the plot becomes a packed bubbles plot for a straightforward interpretation of enrollment number vs. course type. As if the bubbles is large, there are more people enrolled in that type of course. \n",
    "    - Add Location to Marks and make it a Detail object, so that when the cursor is on the certain Course, the details pop-up windows shows on which campus the course is offered. "
   ]
  },
  {
   "cell_type": "markdown",
   "id": "4e71fb16-afb1-4ceb-bbb2-fc20b8e703ea",
   "metadata": {},
   "source": [
    "- Conclusion of the previous step:\n",
    "    - Most students enrolled in BUS courses, MATH courses, and ECON courses. \n",
    "    - Students enrolled in BUS 100 also enrolled in BUS 201. \n",
    "    - Most students take courses in Burnaby Campus, except one large section of BUS201 in Surrey Campus. "
   ]
  },
  {
   "cell_type": "markdown",
   "id": "f52c8f01-49d4-4ddf-b1e0-b65c1e90feef",
   "metadata": {},
   "source": [
    "### Jan 18 3:30 pm to 9:00 pm\n",
    "#### Individual work on Tableau Workbook contd."
   ]
  },
  {
   "cell_type": "markdown",
   "id": "c3a91d80-f666-4721-8c93-454ddb782c4d",
   "metadata": {},
   "source": [
    "- Create a schdule view: x-axis as time, y-axis as the listed course name. \n",
    "    - First create a varibale (calculated field) of duration of each course: \n",
    "        - Need Start time and End time of the course to caculate Duration. \n",
    "            - Format the Start time and End time of the course into Datetime object using MAKEDATETIME() and MAKETIME() functions since the original values are text objects.\n",
    "            - Since MAKEDATETIME()'s default value for year parameter is 1899-01-01, so I use TODAY()'s function to replace the default date parameter.\n",
    "            - MAKETIME() takes hh:mm:ss as input, since we already have [Hour of Meeting Time Start] and [Minute of Meeting Time Start], put 00 as the third paramenter, since we don't need to consider the second of the course time. \n",
    "            - Replace this for [Hour of Meeting Time End] and [Minute of Meeting Time End]. \n",
    "            - Store the calculated start time and end time as [Start Time] and [End Time]\n",
    "            - Note: when using [Start Time] and [End Time] in the canvas, the system will display year by default, correct this by right click the variable and change display type, choose \"exact date\".\n",
    "        - Now create duration variable using the DATETIME object [Start Time] and [End Time].\n",
    "            - Use DATEDIFF() with parameter 'second' to create duration, divid 86400 at the end of the function since there are 86400 seconds in a day, and we want a fraction of the day only. \n",
    "            - Store the variable as [Duration], this is a calcutlated field. \n",
    "    - Now we have [Duration], [Start Time], and [End Time].\n",
    "        - Drag [Location], [Start Time] into Columns section. \n",
    "        - Drag [Section Type], [Course Name] into Rows section.\n",
    "        - Drag [Duration] in Marks sections, make it into a Size Object. \n",
    "    - Finished the course schedules views. \n",
    "    \n",
    "- In the Filters sections, add [Location], [Section Type], [Subject], [Course Name], [Start Time] as filters for detailed selections. \n",
    "- Also add [Monday] = \"Y\" in the Filters so we have a schedule visulization for Monday. \n",
    "- Repeat the previous step for [Tuesday] to [Friday].\n"
   ]
  },
  {
   "cell_type": "markdown",
   "id": "ed32064c-4db8-463d-8c27-db29c064835b",
   "metadata": {},
   "source": [
    "- Summarize the scheudule visualization and look for the best slots for BUS 100. "
   ]
  },
  {
   "cell_type": "markdown",
   "id": "173ec7e0-8c37-4b01-adda-34a09a8a1aaa",
   "metadata": {},
   "source": [
    "- Based on the constraints, my initial idea was to put BUS100 before MATH 157 on Wednesday 8:30am - 9:30 am, since there are many people taking MATH157 that day and by just before the MATH157 students are not very likely* (subjective assumption) to skip the class."
   ]
  },
  {
   "cell_type": "markdown",
   "id": "7caed130-4a04-4621-adaf-921843b24b6d",
   "metadata": {},
   "source": [
    "- Export Wednesday's view as a PDF and mark the desired time slot and share it to the group. "
   ]
  },
  {
   "cell_type": "markdown",
   "id": "9529b215-b13b-4492-931a-04d81c7d9e0a",
   "metadata": {},
   "source": [
    "### Jan 19, 10:00 am to 5:00 pm. \n",
    "#### Team meeting on indiviual recommendations (11:00 am to 12:00 pm)"
   ]
  },
  {
   "cell_type": "markdown",
   "id": "2873dc0d-bdde-4411-8b3d-b35e48204a6e",
   "metadata": {},
   "source": [
    "- Simran has already created a Document for sharing the individual recommendations (cant remember what time). I put my recommendation found on Jan 18, 2023 on the doc. (File details: < BUS439 Project Rec Notes>. Link: https://docs.google.com/document/d/1Efq6FDbzsJ0-np14Lr6SljtSO1jQPVFfw5UIbFZefng/edit)"
   ]
  },
  {
   "cell_type": "markdown",
   "id": "3173508d-c31f-44c2-aac5-8700b201b76c",
   "metadata": {},
   "source": [
    "- By 10:30am, I can see mine, hongrui's, Simran's recommendations on the file. Each of us came up with 1-3 recommendations and 1 alternative recommendations. Our alternative recommendations split the BUS100 into two sections. "
   ]
  },
  {
   "cell_type": "markdown",
   "id": "9032a621-d6d0-45d9-a0a5-e99e1d6a1f60",
   "metadata": {},
   "source": [
    "- At 10:38am, Ishann Bedi sent a message in the group chat informing that he will not be attending the meeting schedule at 11:00 am. "
   ]
  },
  {
   "cell_type": "markdown",
   "id": "4ee5edad-70a3-4d47-8062-ef4c6b8d2db9",
   "metadata": {},
   "source": [
    "- During the meeting, Jeffery shared his findings and recommendations through screenshare on Zoom. He created a vertially formatted weekly schedule combined with denstiy plot, it is a more direct approch to look at the empty time slots for BUS100. Everyone else also shared their finidngs and reasonings. Ishann did not put his findings on the shared file nor showed up during the meeting.  "
   ]
  },
  {
   "cell_type": "markdown",
   "id": "9d41fa24-7b1d-4540-85b5-d40afa643400",
   "metadata": {},
   "source": [
    "- Schedule Meeting on Friday, Jan 20, 2023, at 12:00pm for finalized individual solutions and alternatives. "
   ]
  },
  {
   "cell_type": "markdown",
   "id": "9ea1a55e-e293-4191-a7ad-6b01c1e711e9",
   "metadata": {},
   "source": [
    "- Simran messaged Ishann in the group chat informing the schduled meeting. Isshan responed and implied that he will attend Friday's meeting. "
   ]
  },
  {
   "cell_type": "markdown",
   "id": "235e9b93-dace-43c2-81f5-51313ea3e8de",
   "metadata": {},
   "source": [
    "#### Continue working on individual recommendations. (3:00 pm to 5:00 pm)"
   ]
  },
  {
   "cell_type": "markdown",
   "id": "3b43fc22-7608-4d60-b687-e68e28563659",
   "metadata": {},
   "source": [
    "- Simran summarized Hongrui's, Jeffery's, her own's, and my recommendation on the < BUS439 Project Rec Notes>, I looked at other's recommendations and try to find an improved time slots for BUS100. "
   ]
  },
  {
   "cell_type": "markdown",
   "id": "6f75d3d6-27e6-4843-a8c1-404bfe531829",
   "metadata": {},
   "source": [
    "- Create a Dashborad in Tableau Desktop 2022.3 by dragging Monday, Wednesday, Firday views into the dashborad, added filters and applied filters to all views for selections. "
   ]
  },
  {
   "cell_type": "markdown",
   "id": "06621abe-3101-4c12-935c-777db7203b29",
   "metadata": {},
   "source": [
    "- Repeated the previous step for Tuesday and Thursday. "
   ]
  },
  {
   "cell_type": "markdown",
   "id": "43773b1a-cae9-4dde-ab37-a28061f59bbb",
   "metadata": {},
   "source": [
    "- Still looking for a way to reproduce all daily views in one dashboard without combining external date data. "
   ]
  },
  {
   "cell_type": "markdown",
   "id": "996850e7-bde4-40ea-b22d-e86af26a4d61",
   "metadata": {},
   "source": [
    "- I updated my recommendations: \n",
    "    - Thrusday at 8:30 am\n",
    "        - Pro: BUS 201 after\n",
    "        - Con: Conflict with BUS237 \n",
    "    - Friday at 9:30 am \n",
    "        - Pro: right after MATH157\n",
    "        - Con: Potential room avaliability conflict (cannot book C9001 at that time)."
   ]
  },
  {
   "cell_type": "markdown",
   "id": "faf28819-2e15-46bf-ad12-b8bb9466a315",
   "metadata": {},
   "source": [
    "### Jan 20, 12:00 pm to 5:00 pm\n",
    "#### Team meeting on finalized individual recommendations and alternatives (12:00 pm - 2:00 pm)"
   ]
  },
  {
   "cell_type": "markdown",
   "id": "de41b1f4-bef4-4808-abed-0e0714ce1487",
   "metadata": {},
   "source": [
    "- Shared finalized recommendations in a tableau dashboard view with the team member: Hongrui, Jeffery, and Simran.\n",
    "- I shared my updated recommendations from yesterday. (Section 2 Jan19)\n",
    "- Simran reminded Isshan Bedi about today’s meeting but he is absent again with no response.\n",
    "- Summarize all findings and debate about recommendations based on feasibility and constraints notes.\n",
    "- Finalized recommendations to be 1. 2. 3.\n",
    "- Distribute slides design works through the four members. I took the appendix part.\n",
    "- Scheduled next meeting to on Sunday Jan 22,2023 at 9:00pm.\n",
    "- Schedule final meeting before presentation on Monday Jan 23,2023 at 7:30pm.\n"
   ]
  },
  {
   "cell_type": "markdown",
   "id": "3c403e60-77d8-49e2-945a-7b4dcacf65d1",
   "metadata": {},
   "source": [
    "#### Individual work on finalizing tableau dashboard view (3:00 pm - 5:00 pm)\n",
    "\n",
    "- Pivot the dataset (Schedule.xlsx) by [Monday], [Tuesday], [Wednesday], [Thursday], [Friday]. \n",
    "- Create new variables named [have class] and rename the pivoted day of class [Day of Class].\n",
    "- Now we have a column having the days of the class is offered.\n",
    "- Add the [Day of Class] into columns so that the schedule is split by day.\n",
    "- In the dashboard section, change the canvas size to PowerPoint for PowerPoint presentations. \n",
    "- Add [Day of Class] into filters and apply the filters to all views using the dataset.\n",
    "- Now the dashboard of schedules meets the expected design.\n",
    "- Register an Tableau Public account.\n",
    "- Export data extracts of the Tableau workbook. \n",
    "- Upload the dashboard and data extract to Tableau Server( Tableau Public account) and set the display preferences to hidden* (for non disclosure)\n",
    "- Put the dashboard screenshots in the appendix and added link to the dashboard on Tableau Server."
   ]
  },
  {
   "cell_type": "markdown",
   "id": "a2a9d3f5-f12d-4039-b5d4-37873ff83918",
   "metadata": {},
   "source": [
    "### Jan 22, 9:00 pm to 10;00 pm\n",
    "#### Team meeting on Presentation slides"
   ]
  },
  {
   "cell_type": "markdown",
   "id": "7f232946-3187-462c-9ae1-107e851e71a2",
   "metadata": {},
   "source": [
    "- Finalize slides design and split presentation parts. \n",
    "- I took the Q&A part with Jeffery. \n",
    "- Team members initiate scripts for presentation. \n",
    "- Remind meeting on Jan 23, 2023 at 7:30pm for presentation rehearsal.\n",
    "- Present my final draft of Tableau View to the team and explain the dashboard functions. "
   ]
  },
  {
   "cell_type": "markdown",
   "id": "a6188165-e191-46f8-9fe6-402aceab83f1",
   "metadata": {},
   "source": [
    "### Jan 23 7:30pm - 9:30 pm\n",
    "#### Team meeting on Presentation rehearsal. "
   ]
  },
  {
   "cell_type": "markdown",
   "id": "8930930b-50fe-437b-9290-13abd5f54229",
   "metadata": {},
   "source": [
    "- Presentation rehearsal."
   ]
  },
  {
   "cell_type": "markdown",
   "id": "a159e278-9072-4e59-8b68-b94d949028dc",
   "metadata": {},
   "source": [
    "### Jan 24 11:30 am\n",
    "#### Present conclusions to the client. "
   ]
  }
 ],
 "metadata": {
  "kernelspec": {
   "display_name": "R",
   "language": "R",
   "name": "ir"
  },
  "language_info": {
   "codemirror_mode": "r",
   "file_extension": ".r",
   "mimetype": "text/x-r-source",
   "name": "R",
   "pygments_lexer": "r",
   "version": "4.2.2"
  }
 },
 "nbformat": 4,
 "nbformat_minor": 5
}
