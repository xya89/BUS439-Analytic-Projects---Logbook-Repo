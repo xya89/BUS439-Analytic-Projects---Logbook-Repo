{
 "cells": [
  {
   "cell_type": "markdown",
   "id": "b0c12939-11df-4efd-a8da-8816c4acd999",
   "metadata": {
    "tags": []
   },
   "source": [
    "# Work Log"
   ]
  },
  {
   "cell_type": "markdown",
   "id": "085f124d-5424-47d8-852a-2aa485fc9d75",
   "metadata": {
    "tags": []
   },
   "source": [
    "### Jan 10, 2023, 1:30om to 2:20 pm\n",
    "#### Team Meeting"
   ]
  },
  {
   "cell_type": "markdown",
   "id": "b98ca9c2-8c63-4393-be9e-33d5e3d93030",
   "metadata": {},
   "source": [
    "- Initial meeting with team, in class"
   ]
  },
  {
   "cell_type": "markdown",
   "id": "ac41a48c-5647-442f-9cdc-c088361d9aef",
   "metadata": {},
   "source": [
    "- Initial data exploration by importing data into R or examine the data directly on Excel by looking at what the columns mean. "
   ]
  },
  {
   "cell_type": "markdown",
   "id": "e9cc955c-56c8-478e-92c2-c544e9f6eed4",
   "metadata": {},
   "source": [
    "- Exchange contact information within the team and formed a group on WhatsApp for communication. "
   ]
  },
  {
   "cell_type": "markdown",
   "id": "63668f57-aead-4ca8-b7cd-5a791836310c",
   "metadata": {
    "tags": []
   },
   "source": [
    "### Jan 11, 2023, 2:30 pm to 4:00 pm \n",
    "#### Individual Learning Tableau and Team meeting scheduling"
   ]
  },
  {
   "cell_type": "markdown",
   "id": "52597956-aeb9-4a68-89e5-3190ea87dc92",
   "metadata": {},
   "source": [
    "##### Individual Learning Tableau"
   ]
  },
  {
   "cell_type": "markdown",
   "id": "b4e8b12c-7177-4316-9785-3fdec3520ca9",
   "metadata": {},
   "source": [
    "- I used Tableau 2022.03 on the computer on SFU Bunrbay Library and used holidays_events.csv, stores.csv, train.csv, and transactions.csv data avaliable from Kaggle.com under the opensource competition \"Store Sales - Time Series Forecasting\" link: https://www.kaggle.com/competitions/store-sales-time-series-forecasting/data. to explore the Tableau. I did not save the Tableau workbook neither in .twb nor the .twbx with packaged data since I cannot connect to my SFU Tableau free account on the library's computer. "
   ]
  },
  {
   "cell_type": "markdown",
   "id": "f4cd6858-769f-4c29-998d-fbb803cba792",
   "metadata": {},
   "source": [
    "- I joined the stores.csv and transactions.csv using inner join on column \"storenbr\", and I tried to get a visualized insights of how the transactions is distributed throughout the year and throughout Ecuador's cities. Since the dataset is based on store sells in Edcudor from 2012 to 2017. "
   ]
  },
  {
   "cell_type": "markdown",
   "id": "fdd97771-b6bf-4a50-b774-4abbd12dbdc1",
   "metadata": {},
   "source": [
    "- I put Date as X-axis and countD(Transactions) as Y-axis and found people in Ecuador's city tends to shop crazy at the day of Christmas Eve. I then put cities as a \"legend\" and found that people in the Quito, the capital city contributes to more than 50% of the conutries in-store transactions throughout the year.  "
   ]
  },
  {
   "cell_type": "markdown",
   "id": "a7cd95bd-fc3a-4505-99d8-a50aaa2bd0e3",
   "metadata": {
    "tags": []
   },
   "source": [
    "##### Team meeting scheduling"
   ]
  },
  {
   "cell_type": "markdown",
   "id": "08635672-0c53-44c8-81a6-e92eeab69546",
   "metadata": {},
   "source": [
    "- Scheduled team meeting for the noon of Jan 12 for foundational work on issue tree and interview questions. Also for diving the workload. "
   ]
  },
  {
   "cell_type": "markdown",
   "id": "e1b6d8e2-8f73-4cf6-9096-84e8ad76858b",
   "metadata": {
    "tags": []
   },
   "source": [
    "### Jan 11, 2023, 7:30 pm to 9:00 pm \n",
    "#### Individual Work on Issue Tree brainstorming and Exploring the Schedulling data. "
   ]
  },
  {
   "cell_type": "markdown",
   "id": "40075393-43d4-48ab-9645-5f96e7457a63",
   "metadata": {},
   "source": [
    "##### Individual Work on Issue Tree brainstorimg"
   ]
  },
  {
   "cell_type": "markdown",
   "id": "4c7d8072-2b2e-40f4-9872-89a5ba41be26",
   "metadata": {},
   "source": [
    "- The main objective of the business problem is to schedule BUS100 in a time so that students come to class. \n",
    "So I start my brainstorming on three aspects of schedulling:\n",
    "    1. Campus location.\n",
    "    2. Campus room avaliability.\n",
    "    3. Time avaliability. "
   ]
  },
  {
   "cell_type": "markdown",
   "id": "c6bb2afe-1c94-434b-b197-120b4765e206",
   "metadata": {},
   "source": [
    "- For campus location, I have the following notes:\n",
    "    - How about students taking classes in other campus (other than Burnaby) only?\n",
    "        - What about students having class on different campus on the same day? \n",
    "            - Need to consider commuting time. \n",
    "                - Type of commuting: Train, Bus, Car.\n",
    "                \n",
    "        - What about students only taking online class?\n",
    "            - Can the client offer hybrid class for studetns learning remotely?\n",
    "\n",
    "- For schedulling based on the time so that most students are free.\n",
    "    - Class time in between classes – avoid skipping classes. \n",
    "    - A specific day when most students are free. OR\n",
    "    - A specific time of a day when most students are free.\n",
    "    - Should we consider workload?\n",
    "        - Is the student likely to skip the one-hour class after a full day?\n",
    "            - Could we schedule the BUS100 in-between long lectures?\n",
    "\n",
    "- For schedulling at a campus with most rooms available.\n",
    "    - What time will the rooms be available. \n",
    "    - Where is the most convenient room for all BUS 100 students on Campus. \n",
    "    "
   ]
  },
  {
   "cell_type": "markdown",
   "id": "69ea3612-ba93-4edf-abe1-6c1d386a8e8e",
   "metadata": {},
   "source": [
    "- Based on the above brainstorming questions, I have the following possible solutions:\n",
    "    - Scheduling based on free time:\n",
    "        - Overlay all the students' class schedule and find the free spot. \n",
    "        - In the case of multiple free spots, choose one based on campus location, room availability. \n",
    "    - Scheduling based on Campus location:\n",
    "        - Same as above, but campus location has more weight in the decision. \n",
    "        - Open to discussion. "
   ]
  },
  {
   "cell_type": "markdown",
   "id": "59e967d7-861e-44c8-87db-c80075bb8842",
   "metadata": {},
   "source": [
    "##### Exploring the Scheduelling data"
   ]
  },
  {
   "cell_type": "markdown",
   "id": "5197faa0-2c27-4a34-a4c6-e9325d68a543",
   "metadata": {},
   "source": [
    "- Didn't do much other than getting the data into Tableau."
   ]
  },
  {
   "cell_type": "markdown",
   "id": "f9434ed6-d010-4c58-9b18-f8dc8360afeb",
   "metadata": {},
   "source": [
    "### Jan 12, 2023, 11:45am to 12:00 pm\n",
    "#### Initial Team Meeting via Zoom"
   ]
  },
  {
   "cell_type": "markdown",
   "id": "6398552f-cd4a-4dc5-a2c4-fa00a675d2e9",
   "metadata": {},
   "source": [
    "- Simaran sent an Zoom invitation link for group meeting and a link to the google drive folder for the project: (Link: https://drive.google.com/drive/u/1/folders/1ec_nvnesz0hlre7bqZUvzDdTZUFdulLY)"
   ]
  },
  {
   "cell_type": "markdown",
   "id": "d82cbc29-12cf-4f47-a24b-67404c085d95",
   "metadata": {},
   "source": [
    "- Get access shared docuements for ideas sharing and issue tree creating from group messages. "
   ]
  },
  {
   "cell_type": "markdown",
   "id": "b492b6f9-c093-48af-aa18-971754320e66",
   "metadata": {},
   "source": [
    "- Put my initial brainstorming for the interview question on the Google doc for interview questions development. (File details: <Group 1 BUS439 D100 - Interview Questions>. Link: https://docs.google.com/document/d/173QTX2cuk4Aaf692goDZK0B3dvtS0saIwTQiQw1IMzI/edit)"
   ]
  },
  {
   "cell_type": "markdown",
   "id": "92559b0c-7bed-4ed1-8162-e6b6ae034f0b",
   "metadata": {},
   "source": [
    "- Schedule the meeting on Saturday, Jan 14, 2023, at 1pm for sharing the individual issue tree based on the key question(What's the best schedule for BUS100) and choose a best tree for further development and interview questions development. "
   ]
  },
  {
   "cell_type": "markdown",
   "id": "8e4a2fe0-91c6-4d21-8fe3-87d033b0f32d",
   "metadata": {},
   "source": [
    "### Jan 13, 2023, 3:30pm to 5:30pm\n",
    "#### Inidividual Review of Process and Sketch an Issue Tree on Shared Google Doc. "
   ]
  },
  {
   "cell_type": "markdown",
   "id": "1266284a-4acf-43bf-a0d8-ed7211108d08",
   "metadata": {},
   "source": [
    "##### Review of Process so far"
   ]
  },
  {
   "cell_type": "markdown",
   "id": "dbe9ebfa-1dad-4ebf-8a3a-4026f96005d4",
   "metadata": {},
   "source": [
    "- Reivew what I had so far on the log and my working files. (Brainstorming ideas file: IssueTree- SeanYang.docx)"
   ]
  },
  {
   "cell_type": "markdown",
   "id": "30946124-358c-4770-a16a-506eda6d80eb",
   "metadata": {},
   "source": [
    "- Spent 30 minutes on individual brainstorming of additional ideas from Jan 11. "
   ]
  },
  {
   "cell_type": "markdown",
   "id": "5a383094-c3e9-4d05-993c-81289d87c81a",
   "metadata": {},
   "source": [
    "##### Sketch an Individual Issue Tree on Shared Google Doc. "
   ]
  },
  {
   "cell_type": "markdown",
   "id": "f057bcaf-2aa7-47fd-9e04-f83924086c6a",
   "metadata": {},
   "source": [
    "- I organized my ideas from the brainstorming file (IssueTree-SeanYang.docx) and put them into an issue tree by using boxes representing the tree nodes and lines representing the branches. "
   ]
  },
  {
   "cell_type": "markdown",
   "id": "115cd229-8a26-4884-9fd9-adf33d2e50bc",
   "metadata": {},
   "source": [
    "- format and save the issue tree on Shared Google Doc. The file is for each team member to draw an individual issue tree for meeting on Jan 14. (File details: <Group 1 BUS439 D100 - Issue Tree>. Link: https://docs.google.com/drawings/d/1kzoWO7xe90PpDh-i5B9BiKe92jH5U3qAtJeaThRUhJg/edit)"
   ]
  }
 ],
 "metadata": {
  "kernelspec": {
   "display_name": "R",
   "language": "R",
   "name": "ir"
  },
  "language_info": {
   "codemirror_mode": "r",
   "file_extension": ".r",
   "mimetype": "text/x-r-source",
   "name": "R",
   "pygments_lexer": "r",
   "version": "4.2.2"
  }
 },
 "nbformat": 4,
 "nbformat_minor": 5
}
